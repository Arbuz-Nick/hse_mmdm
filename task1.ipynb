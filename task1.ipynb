{
 "cells": [
  {
   "cell_type": "code",
   "execution_count": 73,
   "id": "9f2e29a0",
   "metadata": {},
   "outputs": [],
   "source": [
    "import numpy as np\n",
    "import matplotlib.pyplot as plt\n",
    "from math import sin, cos, pi, exp\n"
   ]
  },
  {
   "cell_type": "code",
   "execution_count": 101,
   "id": "72edf0cb",
   "metadata": {},
   "outputs": [],
   "source": [
    "# Определение функции\n",
    "def func(x, y):\n",
    "    return x**2 + y**2 #sin(x) * cos(y)\n",
    "def func_a(x, y):\n",
    "    return 3 * (1 - x)**2 * exp(-x**2 - (y + 1)**2) - 10 * (x / 5 - x**3 - y**5) * exp(-x**2 - y**2) - 1/3 * exp(-(x + 1)**2 - y**2)\n",
    "def func_b(x, y):\n",
    "    return -0.0001 * (abs(sin(x) * sin(y) * exp(abs(100 - ((x**2 + y**2)**0.5) / pi))) + 1)**0.1\n",
    "\n",
    "# Параметры генетического алгоритма\n",
    "population_size = 1000\n",
    "gene_length = 10  # Длина хромосомы для каждой переменной\n",
    "crossover_rate = 0.7\n",
    "mutation_rate = 0.01\n",
    "generations = 1000\n",
    "\n",
    "# Диапазон значений переменных\n",
    "x_min, x_max = -10, 10\n",
    "y_min, y_max = -10, 10\n"
   ]
  },
  {
   "cell_type": "code",
   "execution_count": 136,
   "id": "9a8dfeb0",
   "metadata": {},
   "outputs": [],
   "source": [
    "def initialize_population(size, dimensions=2):\n",
    "    return np.random.rand(size, dimensions)\n",
    "\n",
    "def decode(chromosome):\n",
    "    x = x_min + (x_max - x_min) * chromosome[0]\n",
    "    y = y_min + (y_max - y_min) * chromosome[1]\n",
    "    return x, y\n",
    "\n",
    "def fitness_maximization(chromosome):\n",
    "    x, y = decode(chromosome)\n",
    "    return max(0, given_func(x, y))  # Гарантируем, что значение приспособленности неотрицательно\n",
    "\n",
    "def fitness_minimization(chromosome):\n",
    "    x, y = decode(chromosome)\n",
    "    value = given_func(x, y)\n",
    "    return 1 / (1 + value) if value > 0 else 1 + abs(value)\n",
    "\n",
    "def selection(population):\n",
    "    fitness_values = np.array([fit_func(ind) for ind in population])\n",
    "    probabilities = fitness_values\n",
    "    probabilities = (probabilities - (probabilities.min() if (probabilities.min() != np.nan) and (any(probabilities != probabilities.min())) else 0))\n",
    "    probabilities = probabilities / (probabilities.sum() if probabilities.sum() != 0 else 1)\n",
    "    chosen_indices = np.random.choice(range(population_size), size=population_size, replace=True, p=probabilities)\n",
    "    return population[chosen_indices]\n",
    "\n",
    "def crossover(parent1, parent2):\n",
    "    if np.random.rand() < crossover_rate:\n",
    "        point = np.random.randint(0, len(parent1))\n",
    "        child1 = np.concatenate((parent1[:point], parent2[point:]))\n",
    "        child2 = np.concatenate((parent2[:point], parent1[point:]))\n",
    "        return child1, child2\n",
    "    else:\n",
    "        return parent1, parent2\n",
    "\n",
    "def mutate(chromosome):\n",
    "    for i in range(len(chromosome)):\n",
    "        if np.random.rand() < mutation_rate:\n",
    "            chromosome[i] = np.random.rand()\n",
    "    return chromosome\n"
   ]
  },
  {
   "cell_type": "code",
   "execution_count": 137,
   "id": "5f6562e2",
   "metadata": {},
   "outputs": [
    {
     "name": "stdout",
     "output_type": "stream",
     "text": [
      "Лучшие значения переменных: x = -0.005874824721116667, y = 1.5878983913017297\n",
      "Максимальное значение функции: 8.10543784067372\n"
     ]
    }
   ],
   "source": [
    "population = initialize_population(population_size)\n",
    "fit_func = fitness_maximization\n",
    "given_func = func_a\n",
    "for generation in range(generations):\n",
    "    new_population = []\n",
    "    population = selection(population)\n",
    "    for i in range(0, population_size, 2):\n",
    "        parent1, parent2 = population[i], population[i+1]\n",
    "        child1, child2 = crossover(parent1, parent2)\n",
    "        child1 = mutate(child1)\n",
    "        child2 = mutate(child2)\n",
    "        new_population.extend([child1, child2])\n",
    "    population = np.array(new_population)\n",
    "\n",
    "# Определение лучшего решения\n",
    "best_individual = max(population, key=fit_func)\n",
    "best_x, best_y = decode(best_individual)\n",
    "best_fitness = given_func(best_x, best_y)\n",
    "\n",
    "print(f\"Лучшие значения переменных: x = {best_x}, y = {best_y}\")\n",
    "print(f\"Максимальное значение функции: {best_fitness}\")\n"
   ]
  },
  {
   "cell_type": "code",
   "execution_count": 134,
   "id": "00df5450",
   "metadata": {},
   "outputs": [
    {
     "name": "stdout",
     "output_type": "stream",
     "text": [
      "Лучшие значения переменных: x = -1.3186841684016866, y = -1.2362363170234243\n",
      "Минимальное значение функции: -2.061033083174423\n"
     ]
    }
   ],
   "source": [
    "population = initialize_population(population_size)\n",
    "fit_func = fitness_minimization\n",
    "given_func = func_b\n",
    "for generation in range(generations):\n",
    "    new_population = []\n",
    "    population = selection(population)\n",
    "    for i in range(0, population_size, 2):\n",
    "        parent1, parent2 = population[i], population[i+1]\n",
    "        child1, child2 = crossover(parent1, parent2)\n",
    "        child1 = mutate(child1)\n",
    "        child2 = mutate(child2)\n",
    "        new_population.extend([child1, child2])\n",
    "    population = np.array(new_population)\n",
    "\n",
    "# Определение лучшего решения\n",
    "best_individual = max(population, key=fit_func)\n",
    "best_x, best_y = decode(best_individual)\n",
    "best_fitness = given_func(best_x, best_y)\n",
    "\n",
    "print(f\"Лучшие значения переменных: x = {best_x}, y = {best_y}\")\n",
    "print(f\"Минимальное значение функции: {best_fitness}\")\n"
   ]
  },
  {
   "cell_type": "code",
   "execution_count": null,
   "id": "72be7d6a",
   "metadata": {},
   "outputs": [],
   "source": []
  }
 ],
 "metadata": {
  "kernelspec": {
   "display_name": "Python 3 (ipykernel)",
   "language": "python",
   "name": "python3"
  },
  "language_info": {
   "codemirror_mode": {
    "name": "ipython",
    "version": 3
   },
   "file_extension": ".py",
   "mimetype": "text/x-python",
   "name": "python",
   "nbconvert_exporter": "python",
   "pygments_lexer": "ipython3",
   "version": "3.10.4"
  }
 },
 "nbformat": 4,
 "nbformat_minor": 5
}
